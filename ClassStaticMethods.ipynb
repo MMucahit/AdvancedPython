{
 "metadata": {
  "language_info": {
   "codemirror_mode": {
    "name": "ipython",
    "version": 3
   },
   "file_extension": ".py",
   "mimetype": "text/x-python",
   "name": "python",
   "nbconvert_exporter": "python",
   "pygments_lexer": "ipython3",
   "version": "3.6.8-final"
  },
  "orig_nbformat": 2,
  "kernelspec": {
   "name": "python3",
   "display_name": "Python 3.6.8 64-bit",
   "metadata": {
    "interpreter": {
     "hash": "02b1dde27e87edefdf863d7c5938f5ab14d0dbf5d66335f903d8a417c652c631"
    }
   }
  }
 },
 "nbformat": 4,
 "nbformat_minor": 2,
 "cells": [
  {
   "source": [
    "import time\n",
    "import datetime\n",
    "class Employee:\n",
    "\n",
    "    numEmps = 0\n",
    "    raiseAmt = 1.04\n",
    "\n",
    "    def __init__(self,firstName,lastName,Pay):\n",
    "        self._firstName = firstName\n",
    "        self._lastName = lastName\n",
    "        self._Pay = Pay\n",
    "        self._Email = str(firstName) + '.' + str(lastName) + '@gmail.com'\n",
    "\n",
    "        Employee.numEmps += 1\n",
    "\n",
    "    def FullName(self):\n",
    "        return f'{self._firstName} {self._lastName}'\n",
    "\n",
    "    def ApplyRaise(self):\n",
    "        self._Pay = int(self._Pay * self.raiseAmt)\n",
    "\n",
    "    @classmethod\n",
    "    def SetRaiseAmt(cls,amount):\n",
    "        cls.raiseAmt = amount\n",
    "\n",
    "    @classmethod\n",
    "    def FromString(cls,EmpStr):\n",
    "        firstName, lastName, pay = EmpStr.split('-')\n",
    "        return cls(firstName,lastName,pay)\n",
    "    \n",
    "    @staticmethod\n",
    "    def FromTimeStamp(func):\n",
    "        y, m, d, hh, mm, ss, weekday, jday, dst = time.localtime(func)\n",
    "        result = str(y) + '.' + str(m) + '.' + str(d)\n",
    "        return result\n",
    "\n",
    "    @staticmethod\n",
    "    def IsWorkDay(day):    \n",
    "        if day.weekday() == 5 or day.weekday() == 6:\n",
    "            return False\n",
    "        return True    \n",
    "\n",
    "emp_1 = Employee('Mücahit','NAS',5000)\n",
    "emp_2 = Employee('Samet','Akarçeşme',10000)\n"
   ],
   "cell_type": "code",
   "metadata": {},
   "execution_count": 66,
   "outputs": []
  },
  {
   "cell_type": "code",
   "execution_count": 54,
   "metadata": {},
   "outputs": [
    {
     "output_type": "stream",
     "name": "stdout",
     "text": [
      "Class seviyesi Faize oranı: 1.05\nMücahit'in Faiz oranı: 1.05\nSamet'in Faiz oranı: 1.05\n"
     ]
    }
   ],
   "source": [
    "Employee.SetRaiseAmt(1.05)\n",
    "\n",
    "print(f'Class seviyesi Faize oranı: {Employee.raiseAmt}')\n",
    "print(f'{emp_1._firstName}\\'in Faiz oranı: {emp_1.raiseAmt}')\n",
    "print(f'{emp_2._firstName}\\'in Faiz oranı: {emp_2.raiseAmt}')"
   ]
  },
  {
   "cell_type": "code",
   "execution_count": 55,
   "metadata": {},
   "outputs": [
    {
     "output_type": "stream",
     "name": "stdout",
     "text": [
      "Emre.Ünal@gmail.com\n15000\n"
     ]
    }
   ],
   "source": [
    "empStr_1 = 'Emre-Ünal-15000'\n",
    "empStr_2 = 'Hasan-Tok-17000'\n",
    "empStr_3 = 'Burak-Yürük-13000'\n",
    "\n",
    "newEmp = Employee.FromString(empStr_1)\n",
    "\n",
    "print(newEmp._Email)\n",
    "print(newEmp._Pay)"
   ]
  },
  {
   "cell_type": "code",
   "execution_count": 78,
   "metadata": {},
   "outputs": [
    {
     "output_type": "stream",
     "name": "stdout",
     "text": [
      "Tarih(Yıl,Ay,Gün): 2021.1.22\nBugün çalışma günü mü?(Hafta içi mi?): True\n"
     ]
    }
   ],
   "source": [
    "func = time.time()\n",
    "myTime = Employee.FromTimeStamp(func)\n",
    "splitMyTime = Employee.FromTimeStamp(func).split('.')\n",
    "print(f'Tarih(Yıl,Ay,Gün): {myTime}')\n",
    "\n",
    "myDate = datetime.datetime(int(splitMyTime[0]),int(splitMyTime[1]),int(splitMyTime[2]))\n",
    "print(f'Bugün çalışma günü mü?(Hafta içi mi?): {Employee.IsWorkDay(myDate)}')"
   ]
  },
  {
   "cell_type": "code",
   "execution_count": null,
   "metadata": {},
   "outputs": [],
   "source": []
  }
 ]
}