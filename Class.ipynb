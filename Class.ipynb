{
 "metadata": {
  "language_info": {
   "codemirror_mode": {
    "name": "ipython",
    "version": 3
   },
   "file_extension": ".py",
   "mimetype": "text/x-python",
   "name": "python",
   "nbconvert_exporter": "python",
   "pygments_lexer": "ipython3",
   "version": "3.6.8-final"
  },
  "orig_nbformat": 2,
  "kernelspec": {
   "name": "python3",
   "display_name": "Python 3.6.8 64-bit",
   "metadata": {
    "interpreter": {
     "hash": "02b1dde27e87edefdf863d7c5938f5ab14d0dbf5d66335f903d8a417c652c631"
    }
   }
  }
 },
 "nbformat": 4,
 "nbformat_minor": 2,
 "cells": [
  {
   "source": [
    "Class(Sınıf) Oluşturma"
   ],
   "cell_type": "markdown",
   "metadata": {}
  },
  {
   "cell_type": "code",
   "execution_count": 9,
   "metadata": {},
   "outputs": [],
   "source": [
    "class Employee:\n",
    "    pass"
   ]
  },
  {
   "source": [
    "İnstance(Örnek) oluşturma"
   ],
   "cell_type": "markdown",
   "metadata": {}
  },
  {
   "source": [
    "emp_1 = Employee()\n",
    "emp_2 = Employee()"
   ],
   "cell_type": "code",
   "metadata": {},
   "execution_count": null,
   "outputs": []
  },
  {
   "source": [],
   "cell_type": "markdown",
   "metadata": {}
  },
  {
   "cell_type": "code",
   "execution_count": 8,
   "metadata": {},
   "outputs": [
    {
     "output_type": "stream",
     "name": "stdout",
     "text": [
      "<__main__.Employee object at 0x00000183AA100AC8>\n<__main__.Employee object at 0x00000183AA100780>\n"
     ]
    }
   ],
   "source": [
    "print(emp_1)\n",
    "print(emp_2)"
   ]
  },
  {
   "source": [
    "Class Attributes"
   ],
   "cell_type": "markdown",
   "metadata": {}
  },
  {
   "cell_type": "code",
   "execution_count": 26,
   "metadata": {},
   "outputs": [],
   "source": [
    "class Employee:\n",
    "    def __init__(self,firsName,lastName,Pay): ## Attributes(Sınıf nitelikleri)\n",
    "        self._firstName = firsName\n",
    "        self._lastName = lastName\n",
    "        self._Email = firsName + '.' + lastName + '@company.com'\n",
    "        self._Pay = Pay"
   ]
  },
  {
   "source": [
    "emp_1 = Employee('Mücahit','NAS',5000)\n",
    "emp_2 = Employee('Samet','Akarçeşme',10000)"
   ],
   "cell_type": "code",
   "metadata": {},
   "execution_count": 27,
   "outputs": []
  },
  {
   "cell_type": "code",
   "execution_count": 28,
   "metadata": {},
   "outputs": [
    {
     "output_type": "stream",
     "name": "stdout",
     "text": [
      "Mücahit\nNAS\nMücahit.NAS@company.com\n5000\n"
     ]
    }
   ],
   "source": [
    "print(emp_1._firstName)\n",
    "print(emp_1._lastName)\n",
    "print(emp_1._Email)\n",
    "print(emp_1._Pay)"
   ]
  },
  {
   "cell_type": "code",
   "execution_count": 29,
   "metadata": {},
   "outputs": [
    {
     "output_type": "stream",
     "name": "stdout",
     "text": [
      "Samet\nAkarçeşme\nSamet.Akarçeşme@company.com\n10000\n"
     ]
    }
   ],
   "source": [
    "print(emp_2._firstName)\n",
    "print(emp_2._lastName)\n",
    "print(emp_2._Email)\n",
    "print(emp_2._Pay)"
   ]
  },
  {
   "source": [
    "Methods"
   ],
   "cell_type": "markdown",
   "metadata": {}
  },
  {
   "cell_type": "code",
   "execution_count": 48,
   "metadata": {},
   "outputs": [],
   "source": [
    "class Employee:\n",
    "    def __init__(self,firsName,lastName,Pay): ## Attributes(Sınıf nitelikleri)\n",
    "        self._firstName = firsName\n",
    "        self._lastName = lastName\n",
    "        self._Email = firsName + '.' + lastName + '@company.com'\n",
    "        self._Pay = Pay\n",
    "\n",
    "    def fullName(self):\n",
    "        return f'{self._firstName} {self._lastName}.' ## Methods"
   ]
  },
  {
   "cell_type": "code",
   "execution_count": 55,
   "metadata": {},
   "outputs": [
    {
     "output_type": "stream",
     "name": "stdout",
     "text": [
      "Mücahit NAS.\nMücahit NAS.\n"
     ]
    }
   ],
   "source": [
    "emp_1 = Employee('Mücahit','NAS',5000)\n",
    "\n",
    "print(emp_1.fullName())\n",
    "print(Employee.fullName(emp_1))"
   ]
  },
  {
   "source": [
    "Class Variables"
   ],
   "cell_type": "markdown",
   "metadata": {}
  },
  {
   "cell_type": "code",
   "execution_count": 47,
   "metadata": {},
   "outputs": [],
   "source": [
    "class Employee:\n",
    "    empNumber = 0\n",
    "    raiseAmount = 1.04 ## Class Variable\n",
    "    def __init__(self,firsName,lastName,Pay): ## Attributes(Sınıf nitelikleri)\n",
    "        self._firstName = firsName\n",
    "        self._lastName = lastName\n",
    "        self._Email = firsName + '.' + lastName + '@company.com'\n",
    "        self._Pay = Pay\n",
    "\n",
    "        Employee.empNumber += 1\n",
    "\n",
    "    def fullName(self): ## Tam Ad\n",
    "        return f'{self._firstName} {self._lastName}.' ## Methods\n",
    "\n",
    "    def applyRaise(self): ## Zam\n",
    "        self._Pay = int(self._Pay * self.raiseAmount) ## Class Variable kullanımı\n",
    "        return self._Pay"
   ]
  },
  {
   "cell_type": "code",
   "execution_count": 48,
   "metadata": {},
   "outputs": [
    {
     "output_type": "stream",
     "name": "stdout",
     "text": [
      "Employee Numbers: 2\n1.04\n1.04\n1.04\n"
     ]
    }
   ],
   "source": [
    "emp_1 = Employee('Mücahit','NAS',5000)\n",
    "emp_2 = Employee('Samet','Akarçeşme',60000)\n",
    "\n",
    "print(f'Employee Numbers: {Employee.empNumber}')\n",
    "print(Employee.raiseAmount)\n",
    "print(emp_1.raiseAmount)\n",
    "print(emp_2.raiseAmount)"
   ]
  },
  {
   "cell_type": "code",
   "execution_count": 49,
   "metadata": {},
   "outputs": [
    {
     "output_type": "stream",
     "name": "stdout",
     "text": [
      "{'__module__': '__main__', 'empNumber': 2, 'raiseAmount': 1.04, '__init__': <function Employee.__init__ at 0x0000025062167158>, 'fullName': <function Employee.fullName at 0x00000250621671E0>, 'applyRaise': <function Employee.applyRaise at 0x0000025062167268>, '__dict__': <attribute '__dict__' of 'Employee' objects>, '__weakref__': <attribute '__weakref__' of 'Employee' objects>, '__doc__': None}\n"
     ]
    },
    {
     "output_type": "execute_result",
     "data": {
      "text/plain": [
       "{'_firstName': 'Mücahit',\n",
       " '_lastName': 'NAS',\n",
       " '_Email': 'Mücahit.NAS@company.com',\n",
       " '_Pay': 5000}"
      ]
     },
     "metadata": {},
     "execution_count": 49
    }
   ],
   "source": [
    "print(Employee.__dict__)\n",
    "emp_1.__dict__"
   ]
  },
  {
   "cell_type": "code",
   "execution_count": 50,
   "metadata": {},
   "outputs": [
    {
     "output_type": "stream",
     "name": "stdout",
     "text": [
      "1.05\n1.05\n1.05\n"
     ]
    }
   ],
   "source": [
    "Employee.raiseAmount = 1.05\n",
    "print(Employee.raiseAmount) ## Class seviyesinde değişken değiştirilmiş oldu.\n",
    "print(emp_1.raiseAmount)\n",
    "print(emp_2.raiseAmount)"
   ]
  },
  {
   "cell_type": "code",
   "execution_count": 51,
   "metadata": {},
   "outputs": [
    {
     "output_type": "stream",
     "name": "stdout",
     "text": [
      "1.05\n1.04\n1.05\n"
     ]
    },
    {
     "output_type": "execute_result",
     "data": {
      "text/plain": [
       "{'_firstName': 'Mücahit',\n",
       " '_lastName': 'NAS',\n",
       " '_Email': 'Mücahit.NAS@company.com',\n",
       " '_Pay': 5000,\n",
       " 'raiseAmount': 1.04}"
      ]
     },
     "metadata": {},
     "execution_count": 51
    }
   ],
   "source": [
    "emp_1.raiseAmount = 1.04\n",
    "print(Employee.raiseAmount)\n",
    "print(emp_1.raiseAmount) ## Fonksiyon seviyesinden değişken değiştirilmiş oldu.\n",
    "print(emp_2.raiseAmount)\n",
    "emp_1.__dict__"
   ]
  },
  {
   "cell_type": "code",
   "execution_count": null,
   "metadata": {},
   "outputs": [],
   "source": []
  }
 ]
}