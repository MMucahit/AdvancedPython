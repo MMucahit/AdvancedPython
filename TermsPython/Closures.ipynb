{
 "metadata": {
  "language_info": {
   "codemirror_mode": {
    "name": "ipython",
    "version": 3
   },
   "file_extension": ".py",
   "mimetype": "text/x-python",
   "name": "python",
   "nbconvert_exporter": "python",
   "pygments_lexer": "ipython3",
   "version": "3.6.8-final"
  },
  "orig_nbformat": 2,
  "kernelspec": {
   "name": "python3",
   "display_name": "Python 3.6.8 64-bit",
   "metadata": {
    "interpreter": {
     "hash": "02b1dde27e87edefdf863d7c5938f5ab14d0dbf5d66335f903d8a417c652c631"
    }
   }
  }
 },
 "nbformat": 4,
 "nbformat_minor": 2,
 "cells": [
  {
   "cell_type": "code",
   "execution_count": null,
   "metadata": {},
   "outputs": [],
   "source": [
    "## TANIM YAPILMALI ##"
   ]
  },
  {
   "cell_type": "code",
   "execution_count": 21,
   "metadata": {},
   "outputs": [
    {
     "output_type": "stream",
     "name": "stdout",
     "text": [
      "Hi\nHi\nHi\n"
     ]
    }
   ],
   "source": [
    "def outerFunc():\n",
    "    message = 'Hi'\n",
    "\n",
    "    def innerFunc():\n",
    "        print(message)\n",
    "    return innerFunc\n",
    "\n",
    "myFunc = outerFunc()        \n",
    "\n",
    "myFunc()\n",
    "myFunc()\n",
    "myFunc()\n"
   ]
  },
  {
   "cell_type": "code",
   "execution_count": 20,
   "metadata": {},
   "outputs": [
    {
     "output_type": "stream",
     "name": "stdout",
     "text": [
      "Hi\n"
     ]
    }
   ],
   "source": [
    "def outerFunc():\n",
    "    message = 'Hi'\n",
    "\n",
    "    def innerFunc():\n",
    "        print(message)\n",
    "    return innerFunc()\n",
    "\n",
    "outerFunc()\n"
   ]
  },
  {
   "cell_type": "code",
   "execution_count": 23,
   "metadata": {},
   "outputs": [
    {
     "output_type": "stream",
     "name": "stdout",
     "text": [
      "hi\nhello\n"
     ]
    }
   ],
   "source": [
    "def outerFunc(msg):\n",
    "    message = msg\n",
    "\n",
    "    def innerFunc():\n",
    "        print(message)\n",
    "    return innerFunc()\n",
    "\n",
    "hiFunc = outerFunc('hi')\n",
    "helloFunc = outerFunc('hello')\n"
   ]
  },
  {
   "cell_type": "code",
   "execution_count": 36,
   "metadata": {},
   "outputs": [
    {
     "output_type": "stream",
     "name": "stdout",
     "text": [
      "11\n1\n"
     ]
    }
   ],
   "source": [
    "import logging\n",
    "logging.basicConfig(filename='example.log',level=logging.INFO)\n",
    "\n",
    "def logger(func):\n",
    "    def logFunc(*args):\n",
    "        logging.info(f'Running \"{func.__name__}\" with arguments {args}')\n",
    "        print(func(*args))\n",
    "    return logFunc    \n",
    "\n",
    "def add(x,y):\n",
    "    return x+y\n",
    "def sub(x,y):\n",
    "    return x-y\n",
    "\n",
    "addLogger = logger(add)\n",
    "subLogger = logger(sub)\n",
    "\n",
    "addLogger(5,6)\n",
    "subLogger(6,5)"
   ]
  },
  {
   "cell_type": "code",
   "execution_count": 33,
   "metadata": {},
   "outputs": [
    {
     "output_type": "stream",
     "name": "stdout",
     "text": [
      "Error:  division by zero\n"
     ]
    }
   ],
   "source": [
    "import logging\n",
    "logging.basicConfig(filename='example.log',level=logging.INFO)\n",
    "def Except(func):\n",
    "    def Control(*args):\n",
    "        try:\n",
    "            print(func(*args))\n",
    "        except BaseException as excpt:\n",
    "            logging.info(f'Running \"{func.__name__}\" with arguments {args}')\n",
    "            print('Error: ',excpt)\n",
    "            \n",
    "    return Control\n",
    "\n",
    "def division(x,y):\n",
    "    return x/y\n",
    "\n",
    "divisionExcept = Except(division)\n",
    "divisionExcept(2,0)\n"
   ]
  },
  {
   "cell_type": "code",
   "execution_count": null,
   "metadata": {},
   "outputs": [],
   "source": []
  }
 ]
}