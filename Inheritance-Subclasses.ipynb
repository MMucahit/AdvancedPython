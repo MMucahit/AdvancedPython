{
 "metadata": {
  "language_info": {
   "codemirror_mode": {
    "name": "ipython",
    "version": 3
   },
   "file_extension": ".py",
   "mimetype": "text/x-python",
   "name": "python",
   "nbconvert_exporter": "python",
   "pygments_lexer": "ipython3",
   "version": "3.6.8-final"
  },
  "orig_nbformat": 2,
  "kernelspec": {
   "name": "python3",
   "display_name": "Python 3.6.8 64-bit",
   "metadata": {
    "interpreter": {
     "hash": "02b1dde27e87edefdf863d7c5938f5ab14d0dbf5d66335f903d8a417c652c631"
    }
   }
  }
 },
 "nbformat": 4,
 "nbformat_minor": 2,
 "cells": [
  {
   "cell_type": "code",
   "execution_count": 36,
   "metadata": {},
   "outputs": [],
   "source": [
    "class Employee:\n",
    "    raiseAmount = 1.05\n",
    "\n",
    "    def __init__(self,firstName,lastName,pay):\n",
    "        self._firstName = firstName\n",
    "        self._lastName = lastName\n",
    "        self._pay = pay\n",
    "        self._email = firstName + '.' + lastName + '@gmail.com'\n",
    "\n",
    "    def fullName(self):\n",
    "        return f'{self._firstName} {self._lastName}'\n",
    "\n",
    "    def applyRaise(self):\n",
    "        self._pay = int(self._pay * self.raiseAmount)        "
   ]
  },
  {
   "cell_type": "code",
   "execution_count": 48,
   "metadata": {},
   "outputs": [],
   "source": [
    "emp1 = Employee('Samet','Akarçeşme',5000)\n",
    "emp2 = Employee('Burak','Yürük',7500)"
   ]
  },
  {
   "cell_type": "code",
   "execution_count": 37,
   "metadata": {},
   "outputs": [],
   "source": [
    "class Developer(Employee):\n",
    "    raiseAmount = 1.10\n",
    "\n",
    "    def __init__(self,firstName,lastName,pay,progLang):\n",
    "        super().__init__(firstName,lastName,pay)\n",
    "        self._progLang = progLang\n",
    "        self._id = firstName + lastName +' => ' + progLang"
   ]
  },
  {
   "cell_type": "code",
   "execution_count": 38,
   "metadata": {},
   "outputs": [
    {
     "output_type": "stream",
     "name": "stdout",
     "text": [
      "Corey.Schafer@gmail.com\nCoreySchafer => Python\nMücahit.Nas@gmail.com\nMücahitNas => C#\n"
     ]
    }
   ],
   "source": [
    "dev1 = Developer('Corey','Schafer',100000,'Python')\n",
    "dev2 = Developer('Mücahit','Nas',200000,'C#')\n",
    "\n",
    "print(dev1._email)\n",
    "print(dev1._id)\n",
    "\n",
    "print(dev2._email)\n",
    "print(dev2._id)\n",
    "\n",
    "# print(dev1._pay)\n",
    "# dev1.applyRaise() ## Developer raiseAmount = 1.10 ezer.\n",
    "# print(dev1._pay)"
   ]
  },
  {
   "cell_type": "code",
   "execution_count": 42,
   "metadata": {},
   "outputs": [],
   "source": [
    "class Manager(Employee):\n",
    "    raiseAmount = 1.15\n",
    "\n",
    "    def __init__(self,firsName,lastName,pay,employees = None):\n",
    "        super().__init__(firsName,lastName,pay)\n",
    "        if employees is None:\n",
    "            self.employees = []\n",
    "        else:\n",
    "            self.employees = employees\n",
    "\n",
    "    def addEmp(self,emp):\n",
    "        if emp not in self.employees:\n",
    "            self.employees.append(emp)\n",
    "\n",
    "    def removeEmp(self,emp):\n",
    "        if emp in self.employees:\n",
    "            self.employees.remove(emp)                    \n",
    "    \n",
    "    def display(self):\n",
    "        for emp in self.employees:\n",
    "            print('-->',emp.fullName())  "
   ]
  },
  {
   "cell_type": "code",
   "execution_count": 56,
   "metadata": {},
   "outputs": [
    {
     "output_type": "stream",
     "name": "stdout",
     "text": [
      "--> Mücahit Nas\n--> Burak Yürük\n"
     ]
    }
   ],
   "source": [
    "mng1 = Manager('Emre','Ünal',500000,[dev1,dev2,emp1,emp2])\n",
    "mng1.removeEmp(dev1)\n",
    "mng1.removeEmp(emp1)\n",
    "mng1.display()"
   ]
  },
  {
   "cell_type": "code",
   "execution_count": 63,
   "metadata": {},
   "outputs": [
    {
     "output_type": "stream",
     "name": "stdout",
     "text": [
      "True\nFalse\nFalse\n\nTrue\nTrue\nFalse\n\nTrue\nFalse\nTrue\n"
     ]
    }
   ],
   "source": [
    "print(isinstance(emp1,Employee)) ## emp1 Employee'in instances(örneği) mi ?\n",
    "print(isinstance(emp1,Developer))\n",
    "print(isinstance(emp1,Manager))\n",
    "print('')\n",
    "print(isinstance(dev1,Employee))\n",
    "print(isinstance(dev1,Developer))\n",
    "print(isinstance(dev1,Manager))\n",
    "print('')\n",
    "print(isinstance(mng1,Employee))\n",
    "print(isinstance(mng1,Developer))\n",
    "print(isinstance(mng1,Manager))"
   ]
  },
  {
   "cell_type": "code",
   "execution_count": 68,
   "metadata": {},
   "outputs": [
    {
     "output_type": "stream",
     "name": "stdout",
     "text": [
      "False\nFalse\n\nTrue\nFalse\n\nTrue\nFalse\n"
     ]
    }
   ],
   "source": [
    "print(issubclass(Employee,Developer)) ## Employee Developer'in alt sınıfı mı ?\n",
    "print(issubclass(Employee,Manager))\n",
    "print('')\n",
    "print(issubclass(Developer,Employee))\n",
    "print(issubclass(Developer,Manager))\n",
    "print('')\n",
    "print(issubclass(Manager,Employee))\n",
    "print(issubclass(Manager,Developer))"
   ]
  },
  {
   "cell_type": "code",
   "execution_count": null,
   "metadata": {},
   "outputs": [],
   "source": []
  }
 ]
}