{
 "metadata": {
  "language_info": {
   "codemirror_mode": {
    "name": "ipython",
    "version": 3
   },
   "file_extension": ".py",
   "mimetype": "text/x-python",
   "name": "python",
   "nbconvert_exporter": "python",
   "pygments_lexer": "ipython3",
   "version": "3.6.8-final"
  },
  "orig_nbformat": 2,
  "kernelspec": {
   "name": "python3",
   "display_name": "Python 3.6.8 64-bit",
   "metadata": {
    "interpreter": {
     "hash": "02b1dde27e87edefdf863d7c5938f5ab14d0dbf5d66335f903d8a417c652c631"
    }
   }
  }
 },
 "nbformat": 4,
 "nbformat_minor": 2,
 "cells": [
  {
   "cell_type": "code",
   "execution_count": null,
   "metadata": {},
   "outputs": [],
   "source": [
    "## TANIM YAPILMALI"
   ]
  },
  {
   "cell_type": "code",
   "execution_count": 108,
   "metadata": {},
   "outputs": [
    {
     "output_type": "stream",
     "name": "stdout",
     "text": [
      "This is a msg\nThis is a msg\n"
     ]
    }
   ],
   "source": [
    "def DecoratorFunc(func):\n",
    "    def WrapperFunc():\n",
    "        return func()\n",
    "    return WrapperFunc\n",
    "\n",
    "def Display():\n",
    "    print('This is a msg')\n",
    "\n",
    "decoratorDisplay = DecoratorFunc(display)\n",
    "decoratorDisplay()\n",
    "\n",
    "@DecoratorFunc\n",
    "def Display():\n",
    "    print('This is a msg')\n",
    "\n",
    "Display()"
   ]
  },
  {
   "cell_type": "code",
   "execution_count": 107,
   "metadata": {},
   "outputs": [
    {
     "output_type": "stream",
     "name": "stdout",
     "text": [
      "wrapper executed this before Display\nThis is a msg\nwrapper executed this before Display\nThis is a msg\n"
     ]
    }
   ],
   "source": [
    "def DecoratorFunc(func):\n",
    "    def WrapperFunc(msg):\n",
    "        print(f'wrapper executed this before {func.__name__}')\n",
    "        return func(msg)\n",
    "    return WrapperFunc\n",
    "\n",
    "def Display(msg):\n",
    "    print(msg)\n",
    "\n",
    "decoratorDisplay = DecoratorFunc(Display)\n",
    "decoratorDisplay('This is a msg')\n",
    "\n",
    "@DecoratorFunc\n",
    "def Display(msg):\n",
    "    print(msg)\n",
    "\n",
    "Display('This is a msg')"
   ]
  },
  {
   "cell_type": "code",
   "execution_count": 104,
   "metadata": {},
   "outputs": [
    {
     "output_type": "stream",
     "name": "stdout",
     "text": [
      "wrapper executed this before Display with arguments: (('This is a msg',), {})\nThis is a msg\nwrapper executed this before Display with arguments: ((), {'msg': 'This is a msg'})\nThis is a msg\n\nwrapper executed this before DisplayInfo with arguments: (('Mücahit', 25), {})\ndisplayInfo ran with arguments (Mücahit,25)\nwrapper executed this before DisplayInfo with arguments: ((), {'name': 'Mücahit', 'age': 25})\ndisplayInfo ran with arguments (Mücahit,25)\n"
     ]
    }
   ],
   "source": [
    "def DecoratorFunc(func):\n",
    "    def WrapperFunc(*args,**kwargs):\n",
    "        print(f'wrapper executed this before {func.__name__} with arguments: {args,kwargs}')\n",
    "        return func(*args,**kwargs)\n",
    "    return WrapperFunc\n",
    "\n",
    "@DecoratorFunc\n",
    "def Display(msg):\n",
    "    print(msg)\n",
    "\n",
    "@DecoratorFunc\n",
    "def DisplayInfo(name,age):\n",
    "    print(f'displayInfo ran with arguments ({name},{age})')    \n",
    "\n",
    "Display('This is a msg')\n",
    "Display(msg='This is a msg')\n",
    "print('')\n",
    "DisplayInfo('Mücahit',25)\n",
    "DisplayInfo(name='Mücahit',age=25)"
   ]
  },
  {
   "cell_type": "code",
   "execution_count": 103,
   "metadata": {},
   "outputs": [
    {
     "output_type": "stream",
     "name": "stdout",
     "text": [
      "- [Multiple] fonksiyonu args: (5, 6, 2, 1, 2, 3, 4, 5, 6, 7, 7, 8, 9) kwargs: {} argümanları ile 0.0 saniye sürdü.\n- [Multiple] fonksiyonu args: (1, 2, 3, 4, 5, 6, 7, 8, 9) kwargs: {} argümanları ile 0.0 saniye sürdü.\n"
     ]
    },
    {
     "output_type": "execute_result",
     "data": {
      "text/plain": [
       "362880"
      ]
     },
     "metadata": {},
     "execution_count": 103
    }
   ],
   "source": [
    "def Benchmark(func):\n",
    "    def Wrapper(*args, **kwargs):\n",
    "        from time import time\n",
    "\n",
    "        time_start = time()\n",
    "        result = func(*args, **kwargs)\n",
    "        time_finish = time()\n",
    "\n",
    "        time_delta = time_finish - time_start\n",
    "        print(f'- [{func.__name__}] fonksiyonu args: {args} kwargs: {kwargs} argümanları ile {round(time_delta, 2)} saniye sürdü.')\n",
    "\n",
    "        return result\n",
    "\n",
    "    return Wrapper\n",
    "\n",
    "def Multiple(*args):\n",
    "    result = 1\n",
    "    for i in args:\n",
    "        result *= i\n",
    "    return result     \n",
    "\n",
    "myBenchmark = benchmark(Multiple)\n",
    "myBenchmark(5,6,2,1,2,3,4,5,6,7,7,8,9)\n",
    "\n",
    "@Benchmark\n",
    "def Multiple(*args):\n",
    "    result = 1\n",
    "    for i in args:\n",
    "        result *= i\n",
    "    return result\n",
    "\n",
    "Multiple(1,2,3,4,5,6,7,8,9)"
   ]
  },
  {
   "cell_type": "code",
   "execution_count": 101,
   "metadata": {},
   "outputs": [
    {
     "output_type": "stream",
     "name": "stdout",
     "text": [
      "- [IsStatus200] fonksiyonu args: () kwargs: {} argümanları ile 0.68 saniye sürdü.\n"
     ]
    }
   ],
   "source": [
    "def Benchmark(func):\n",
    "    def Wrapper(*args, **kwargs):\n",
    "        from time import time\n",
    "\n",
    "        time_start = time()\n",
    "        result = func(*args, **kwargs)\n",
    "        time_finish = time()\n",
    "\n",
    "        time_delta = time_finish - time_start\n",
    "        print(f'- [{func.__name__}] fonksiyonu args: {args} kwargs: {kwargs} argümanları ile {round(time_delta, 2)} saniye sürdü.')\n",
    "\n",
    "        return result\n",
    "\n",
    "    return wrapper\n",
    "\n",
    "@benchmark\n",
    "def IsStatus200():\n",
    "    from urllib import request\n",
    "\n",
    "    response = request.urlopen(\n",
    "        request.Request('https://httpbin.org/status/200',method='HEAD'))\n",
    "\n",
    "    assert response.status == 200\n",
    "\n",
    "IsStatus200()"
   ]
  },
  {
   "cell_type": "code",
   "execution_count": null,
   "metadata": {},
   "outputs": [],
   "source": []
  },
  {
   "cell_type": "code",
   "execution_count": 100,
   "metadata": {},
   "outputs": [
    {
     "output_type": "stream",
     "name": "stdout",
     "text": [
      "call method executed this before Display\nThis is a msg\ncall method executed this before display\nThis is a msg\n"
     ]
    }
   ],
   "source": [
    "class DecoratorClass(object):\n",
    "    def __init__(self,func):\n",
    "        self._func = func\n",
    "\n",
    "    def __call__(self,*args,**kwargs):\n",
    "        print(f'call method executed this before {self._func.__name__}')\n",
    "        return self._func(*args,**kwargs)\n",
    "\n",
    "@DecoratorClass\n",
    "def Display():\n",
    "    print('This is a msg')\n",
    "\n",
    "Display()\n",
    "\n",
    "def Display():\n",
    "    print('This is a msg')\n",
    "\n",
    "decoratorClass = DecoratorClass(display)\n",
    "decoratorClass()"
   ]
  },
  {
   "cell_type": "code",
   "execution_count": 1,
   "metadata": {},
   "outputs": [
    {
     "output_type": "stream",
     "name": "stdout",
     "text": [
      "DisplayInfo\nDisplayInfo ran with arguments (Samet, 24)\nDisplayInfo ran in: 0.0009987354278564453 sec\n"
     ]
    }
   ],
   "source": [
    "from functools import wraps ## Decorator calıstıgında func ısmını wrapper degılde fonksıyona gelen func ismi yapar.\n",
    "\n",
    "def MyLogger(func):\n",
    "    import logging\n",
    "    import datetime\n",
    "    logging.basicConfig(filename=f'{func.__name__}Decorator.log',level=logging.INFO)\n",
    "\n",
    "    @wraps(func)\n",
    "    def Wrapper(*args,**kwargs):\n",
    "        logging.info(f'This {func.__name__} method. Ran with args: {args}, and kwargs: {kwargs}. CurrentTime: {datetime.datetime.now()}')\n",
    "        return func(*args,**kwargs)\n",
    "\n",
    "    return Wrapper\n",
    "\n",
    "def MyTimer(func):\n",
    "    import time\n",
    "\n",
    "    @wraps(func)\n",
    "    def Wrapper(*args,**kwargs):\n",
    "        t1 = time.time()\n",
    "        result = func(*args,**kwargs)\n",
    "        t2 = time.time() - t1        \n",
    "        print(f'{func.__name__} ran in: {t2} sec')\n",
    "        return result\n",
    "\n",
    "    return Wrapper\n",
    "\n",
    "def Display():\n",
    "    print('This is a msg')\n",
    "\n",
    "# myLogger = MyLogger(Display)\n",
    "# myLogger()\n",
    "\n",
    "def DisplayInfo(name,age):\n",
    "    print(f'DisplayInfo ran with arguments ({name}, {age})')\n",
    "\n",
    "# myLogger = MyLogger(DisplayInfo)\n",
    "# myLogger('Mücahit',25)\n",
    "\n",
    "@MyTimer\n",
    "def Display():\n",
    "    print('This is a msg')\n",
    "\n",
    "# Display()\n",
    "\n",
    "# @MyTimer\n",
    "# @MyLogger\n",
    "def DisplayInfo(name,age):\n",
    "    print(f'DisplayInfo ran with arguments ({name}, {age})')\n",
    "\n",
    "displayInfo = MyTimer(MyLogger(DisplayInfo))\n",
    "print(displayInfo.__name__)\n",
    "displayInfo('Samet',24)\n",
    "\n",
    "# DisplayInfo('Samet',24)"
   ]
  },
  {
   "cell_type": "code",
   "execution_count": null,
   "metadata": {},
   "outputs": [],
   "source": []
  }
 ]
}