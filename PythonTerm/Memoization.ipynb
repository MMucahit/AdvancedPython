{
 "metadata": {
  "language_info": {
   "codemirror_mode": {
    "name": "ipython",
    "version": 3
   },
   "file_extension": ".py",
   "mimetype": "text/x-python",
   "name": "python",
   "nbconvert_exporter": "python",
   "pygments_lexer": "ipython3",
   "version": "3.6.8-final"
  },
  "orig_nbformat": 2,
  "kernelspec": {
   "name": "python3",
   "display_name": "Python 3.6.8 64-bit",
   "metadata": {
    "interpreter": {
     "hash": "02b1dde27e87edefdf863d7c5938f5ab14d0dbf5d66335f903d8a417c652c631"
    }
   }
  }
 },
 "nbformat": 4,
 "nbformat_minor": 2,
 "cells": [
  {
   "cell_type": "code",
   "execution_count": 2,
   "metadata": {},
   "outputs": [],
   "source": [
    "import time #\n",
    "\n",
    "def expensiveFunc(num):\n",
    "    print(f'Computing {num}...')\n",
    "    time.sleep(1)\n",
    "    return num*num"
   ]
  },
  {
   "cell_type": "code",
   "execution_count": 3,
   "metadata": {},
   "outputs": [
    {
     "output_type": "stream",
     "name": "stdout",
     "text": [
      "Computing 4...\n",
      "16\n",
      "Computing 10...\n",
      "100\n",
      "Computing 4...\n",
      "16\n",
      "Computing 10...\n",
      "100\n"
     ]
    }
   ],
   "source": [
    "result = expensiveFunc(4)\n",
    "print(result)\n",
    "\n",
    "result = expensiveFunc(10)\n",
    "print(result)\n",
    "\n",
    "result = expensiveFunc(4)\n",
    "print(result)\n",
    "\n",
    "result = expensiveFunc(10)\n",
    "print(result)"
   ]
  },
  {
   "cell_type": "code",
   "execution_count": 5,
   "metadata": {},
   "outputs": [],
   "source": [
    "import time\n",
    "\n",
    "efCache = {}\n",
    "\n",
    "def expensiveFunc(num):\n",
    "    if num in efCache:\n",
    "        return efCache[num]\n",
    "\n",
    "    print(f'Computing {num}...')\n",
    "    time.sleep(1)\n",
    "    result = num*num\n",
    "    efCache[num] = result\n",
    "    return result"
   ]
  },
  {
   "cell_type": "code",
   "execution_count": 6,
   "metadata": {},
   "outputs": [
    {
     "output_type": "stream",
     "name": "stdout",
     "text": [
      "Computing 4...\n",
      "16\n",
      "Computing 10...\n",
      "100\n",
      "16\n",
      "100\n"
     ]
    }
   ],
   "source": [
    "result = expensiveFunc(4)\n",
    "print(result)\n",
    "\n",
    "result = expensiveFunc(10)\n",
    "print(result)\n",
    "\n",
    "result = expensiveFunc(4)\n",
    "print(result)\n",
    "\n",
    "result = expensiveFunc(10)\n",
    "print(result)"
   ]
  },
  {
   "cell_type": "code",
   "execution_count": null,
   "metadata": {},
   "outputs": [],
   "source": []
  }
 ]
}