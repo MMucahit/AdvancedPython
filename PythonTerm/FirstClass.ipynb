{
 "metadata": {
  "language_info": {
   "codemirror_mode": {
    "name": "ipython",
    "version": 3
   },
   "file_extension": ".py",
   "mimetype": "text/x-python",
   "name": "python",
   "nbconvert_exporter": "python",
   "pygments_lexer": "ipython3",
   "version": "3.6.8-final"
  },
  "orig_nbformat": 2,
  "kernelspec": {
   "name": "python3",
   "display_name": "Python 3.6.8 64-bit",
   "metadata": {
    "interpreter": {
     "hash": "02b1dde27e87edefdf863d7c5938f5ab14d0dbf5d66335f903d8a417c652c631"
    }
   }
  }
 },
 "nbformat": 4,
 "nbformat_minor": 2,
 "cells": [
  {
   "cell_type": "code",
   "execution_count": 14,
   "metadata": {},
   "outputs": [
    {
     "output_type": "stream",
     "name": "stdout",
     "text": [
      "Nesne:  <function square at 0x00000234AC238D90>\nNesne:  <function square at 0x00000234AC238D90>\nSonuc:  25\nSonuc:  25\n"
     ]
    }
   ],
   "source": [
    "def square(x): #\n",
    "    return x*x\n",
    "\n",
    "s = square\n",
    "\n",
    "print('Nesne: ',square)\n",
    "print('Nesne: ',s)\n",
    "print('Sonuc: ',square(5))\n",
    "print('Sonuc: ',s(5))"
   ]
  },
  {
   "cell_type": "code",
   "execution_count": null,
   "metadata": {},
   "outputs": [],
   "source": []
  },
  {
   "cell_type": "code",
   "execution_count": 31,
   "metadata": {},
   "outputs": [
    {
     "output_type": "stream",
     "name": "stdout",
     "text": [
      "Squares:  [1, 4, 9, 16, 25]\nCubes:  [1, 8, 27, 64, 125]\n"
     ]
    }
   ],
   "source": [
    "def square(x):\n",
    "    return x*x\n",
    "def cube(x):\n",
    "    return x*x*x\n",
    "\n",
    "def myMap(func,argList):\n",
    "    result = []\n",
    "    for i in argList:\n",
    "        result.append(func(i))\n",
    "    return result\n",
    "\n",
    "squares = myMap(square,[1,2,3,4,5])\n",
    "cubes = myMap(cube,[1,2,3,4,5])\n",
    "\n",
    "print('Squares: ',squares)\n",
    "print('Cubes: ',cubes)"
   ]
  },
  {
   "cell_type": "code",
   "execution_count": null,
   "metadata": {},
   "outputs": [],
   "source": []
  },
  {
   "cell_type": "code",
   "execution_count": 34,
   "metadata": {},
   "outputs": [
    {
     "output_type": "stream",
     "name": "stdout",
     "text": [
      "Log:  Hi!\n"
     ]
    }
   ],
   "source": [
    "def logger(msg):\n",
    "    def logMessage():\n",
    "        print('Log: ',msg)\n",
    "    return logMessage\n",
    "\n",
    "logHi = logger('Hi!')\n",
    "logHi()"
   ]
  },
  {
   "cell_type": "code",
   "execution_count": null,
   "metadata": {},
   "outputs": [],
   "source": []
  },
  {
   "cell_type": "code",
   "execution_count": 16,
   "metadata": {},
   "outputs": [
    {
     "output_type": "stream",
     "name": "stdout",
     "text": [
      "<h1>Test Headline!</h1>\n<h1>Another Headline!</h1>\n\n<p1>Test Paragraph!</p1>\n"
     ]
    }
   ],
   "source": [
    "def htmlTag(tag):\n",
    "    def wrapText(msg):\n",
    "        print(f'<{tag}>{msg}</{tag}>')\n",
    "    return wrapText\n",
    "\n",
    "h1 = htmlTag('h1')\n",
    "h1('Test Headline!')\n",
    "h1('Another Headline!')\n",
    "print('')\n",
    "p1 = htmlTag('p1')\n",
    "p1('Test Paragraph!')"
   ]
  },
  {
   "cell_type": "code",
   "execution_count": null,
   "metadata": {},
   "outputs": [],
   "source": []
  }
 ]
}