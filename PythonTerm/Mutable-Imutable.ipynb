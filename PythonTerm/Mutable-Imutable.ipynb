{
 "metadata": {
  "language_info": {
   "codemirror_mode": {
    "name": "ipython",
    "version": 3
   },
   "file_extension": ".py",
   "mimetype": "text/x-python",
   "name": "python",
   "nbconvert_exporter": "python",
   "pygments_lexer": "ipython3",
   "version": "3.6.8-final"
  },
  "orig_nbformat": 2,
  "kernelspec": {
   "name": "python3",
   "display_name": "Python 3.6.8 64-bit",
   "metadata": {
    "interpreter": {
     "hash": "02b1dde27e87edefdf863d7c5938f5ab14d0dbf5d66335f903d8a417c652c631"
    }
   }
  }
 },
 "nbformat": 4,
 "nbformat_minor": 2,
 "cells": [
  {
   "source": [
    "## İmutable (Değişmez) int, float, bool, string, unicode, tuple"
   ],
   "cell_type": "code",
   "metadata": {},
   "execution_count": null,
   "outputs": []
  },
  {
   "cell_type": "code",
   "execution_count": 11,
   "metadata": {},
   "outputs": [
    {
     "output_type": "stream",
     "name": "stdout",
     "text": [
      "Corey\nAddress of a is: 1930474882136\n"
     ]
    }
   ],
   "source": [
    "a = 'Corey'\n",
    "print(a)\n",
    "print(f'Address of a is: {id(a)}')"
   ]
  },
  {
   "cell_type": "code",
   "execution_count": 12,
   "metadata": {},
   "outputs": [
    {
     "output_type": "stream",
     "name": "stdout",
     "text": [
      "Mücahit\nAddress of a is: 1930474858784\n"
     ]
    }
   ],
   "source": [
    "a = 'Mücahit'\n",
    "print(a)\n",
    "print(f'Address of a is: {id(a)}')"
   ]
  },
  {
   "cell_type": "code",
   "execution_count": null,
   "metadata": {},
   "outputs": [],
   "source": [
    "## Mutable  list, dict, set"
   ]
  },
  {
   "cell_type": "code",
   "execution_count": 13,
   "metadata": {},
   "outputs": [
    {
     "output_type": "stream",
     "name": "stdout",
     "text": [
      "[1, 2, 3, 4, 5]\nAddress of a is: 1930474838536\n"
     ]
    }
   ],
   "source": [
    "a = [1,2,3,4,5]\n",
    "print(a)\n",
    "print(f'Address of a is: {id(a)}')"
   ]
  },
  {
   "cell_type": "code",
   "execution_count": 14,
   "metadata": {},
   "outputs": [
    {
     "output_type": "stream",
     "name": "stdout",
     "text": [
      "[6, 2, 3, 4, 5]\nAddress of a is: 1930474838536\n"
     ]
    }
   ],
   "source": [
    "a[0] = 6 \n",
    "print(a)\n",
    "print(f'Address of a is: {id(a)}')"
   ]
  },
  {
   "cell_type": "code",
   "execution_count": null,
   "metadata": {},
   "outputs": [],
   "source": [
    "## Her for döngüsünde bellekde yeni obje oluşturur buda performans düşüklüğü yapar."
   ]
  },
  {
   "cell_type": "code",
   "execution_count": 16,
   "metadata": {},
   "outputs": [
    {
     "output_type": "stream",
     "name": "stdout",
     "text": [
      "Adress of output is: 1930475348448\nAdress of output is: 1930475337752\nAdress of output is: 1930475310696\nAdress of output is: 1930475452936\nAdress of output is: 1930475560176\nAdress of output is: 1930475546144\n<ul>\n\t<li>Corey</li>\n\t<li>Jhon</li>\n\t<li>Rick</li>\n\t<li>Steve</li>\n\t<li>Carl</li>\n\t<li>Adam</li>\n</ul>\n\n\n"
     ]
    }
   ],
   "source": [
    "employees = ['Corey','Jhon','Rick','Steve','Carl','Adam']\n",
    "\n",
    "output = '<ul>\\n'\n",
    "\n",
    "for employee in employees:\n",
    "    output += f'\\t<li>{employee}</li>\\n'\n",
    "    print(f'Adress of output is: {id(output)}')\n",
    "\n",
    "output += '</ul>'\n",
    "\n",
    "print(output)\n",
    "print('\\n')\n"
   ]
  },
  {
   "cell_type": "code",
   "execution_count": null,
   "metadata": {},
   "outputs": [],
   "source": []
  }
 ]
}