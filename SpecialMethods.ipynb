{
 "metadata": {
  "language_info": {
   "codemirror_mode": {
    "name": "ipython",
    "version": 3
   },
   "file_extension": ".py",
   "mimetype": "text/x-python",
   "name": "python",
   "nbconvert_exporter": "python",
   "pygments_lexer": "ipython3",
   "version": "3.6.8-final"
  },
  "orig_nbformat": 2,
  "kernelspec": {
   "name": "python3",
   "display_name": "Python 3.6.8 64-bit",
   "metadata": {
    "interpreter": {
     "hash": "02b1dde27e87edefdf863d7c5938f5ab14d0dbf5d66335f903d8a417c652c631"
    }
   }
  }
 },
 "nbformat": 4,
 "nbformat_minor": 2,
 "cells": [
  {
   "cell_type": "code",
   "execution_count": 8,
   "metadata": {},
   "outputs": [],
   "source": [
    "class Employee:\n",
    "    raiseAmount = 1.05\n",
    "\n",
    "    def __init__(self,firstName,lastName,pay):\n",
    "        self._firstName = firstName\n",
    "        self._lastName = lastName\n",
    "        self._pay = pay\n",
    "        self._email = firstName + '.' + lastName + '@gmail.com'\n",
    "\n",
    "    def fullName(self):\n",
    "        return f'{self._firstName} {self._lastName}'\n",
    "\n",
    "    def applyRaise(self):\n",
    "        self._pay = int(self._pay * self.raiseAmount)\n",
    "\n",
    "    def __repr__(self):\n",
    "        return f\"Employee('{self._firstName}', '{self._lastName}', {self._pay})\"        \n",
    "\n",
    "    def __str__(self):\n",
    "        return f'{self.fullName()} - {self._email}'\n",
    "\n",
    "    def __add__(self,other):\n",
    "        return self._pay + other._pay    \n",
    "\n",
    "    def __len__(self):\n",
    "        return len(self.fullName())    "
   ]
  },
  {
   "cell_type": "code",
   "execution_count": 9,
   "metadata": {},
   "outputs": [
    {
     "output_type": "stream",
     "name": "stdout",
     "text": [
      "Mücahit Nas - Mücahit.Nas@gmail.com\nCorey Schafer - Corey.Schafer@gmail.com\n"
     ]
    }
   ],
   "source": [
    "## repr ve str fonksiyonları öncesi\n",
    "\n",
    "emp1 = Employee('Mücahit','Nas',5000)\n",
    "emp2 = Employee('Corey','Schafer',7500)\n",
    "print(emp1)\n",
    "print(emp2)"
   ]
  },
  {
   "cell_type": "code",
   "execution_count": 10,
   "metadata": {},
   "outputs": [
    {
     "output_type": "stream",
     "name": "stdout",
     "text": [
      "Employee('Mücahit', 'Nas', 5000)\nCorey Schafer - Corey.Schafer@gmail.com\n"
     ]
    }
   ],
   "source": [
    "emp1 = Employee('Mücahit','Nas',5000)\n",
    "emp2 = Employee('Corey','Schafer',7500)\n",
    "print(emp1.__repr__())\n",
    "print(emp2.__str__())"
   ]
  },
  {
   "cell_type": "code",
   "execution_count": 11,
   "metadata": {},
   "outputs": [
    {
     "output_type": "stream",
     "name": "stdout",
     "text": [
      "12500\n"
     ]
    }
   ],
   "source": [
    "emp1 = Employee('Mücahit','Nas',5000)\n",
    "emp2 = Employee('Corey','Schafer',7500)\n",
    "print(emp1 + emp2)"
   ]
  },
  {
   "cell_type": "code",
   "execution_count": 13,
   "metadata": {},
   "outputs": [
    {
     "output_type": "stream",
     "name": "stdout",
     "text": [
      "11\n"
     ]
    }
   ],
   "source": [
    "emp1 = Employee('Mücahit','Nas',5000)\n",
    "emp2 = Employee('Corey','Schafer',7500)\n",
    "print(len(emp1))"
   ]
  },
  {
   "cell_type": "code",
   "execution_count": null,
   "metadata": {},
   "outputs": [],
   "source": []
  }
 ]
}