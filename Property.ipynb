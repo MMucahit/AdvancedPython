{
 "metadata": {
  "language_info": {
   "codemirror_mode": {
    "name": "ipython",
    "version": 3
   },
   "file_extension": ".py",
   "mimetype": "text/x-python",
   "name": "python",
   "nbconvert_exporter": "python",
   "pygments_lexer": "ipython3",
   "version": "3.6.8-final"
  },
  "orig_nbformat": 2,
  "kernelspec": {
   "name": "python3",
   "display_name": "Python 3.6.8 64-bit",
   "metadata": {
    "interpreter": {
     "hash": "02b1dde27e87edefdf863d7c5938f5ab14d0dbf5d66335f903d8a417c652c631"
    }
   }
  }
 },
 "nbformat": 4,
 "nbformat_minor": 2,
 "cells": [
  {
   "cell_type": "code",
   "execution_count": 17,
   "metadata": {},
   "outputs": [],
   "source": [
    "class Employee:\n",
    "    def __init__(self,firstName,lastName):\n",
    "        self._firstName = firstName\n",
    "        self._lastName = lastName\n",
    "\n",
    "    @property\n",
    "    def email(self):\n",
    "        return f\"{self._firstName}.{self._lastName}@gmail.com\"    \n",
    "\n",
    "    @property\n",
    "    def fullName(self):\n",
    "        return f'{self._firstName} {self._lastName}'\n",
    "\n",
    "    @fullName.setter\n",
    "    def fullName(self,name):\n",
    "        firstName ,lastName = name.split('-')\n",
    "        self._firstName = firstName\n",
    "        self._lastName = lastName\n",
    "\n",
    "    @fullName.deleter\n",
    "    def fullName(self):\n",
    "        print('Delete Name!')\n",
    "        self._firstName = None    \n",
    "        self._lastName = None    "
   ]
  },
  {
   "cell_type": "code",
   "execution_count": 19,
   "metadata": {},
   "outputs": [
    {
     "output_type": "stream",
     "name": "stdout",
     "text": [
      "Corey\nCorey.Schafer@gmail.com\nCorey Schafer\nDelete Name!\nNone\nNone.None@gmail.com\nNone None\n"
     ]
    }
   ],
   "source": [
    "emp1 = Employee('Mücahit','NAS')\n",
    "\n",
    "emp1.fullName = 'Corey-Schafer'\n",
    "\n",
    "print(emp1._firstName)\n",
    "print(emp1.email)\n",
    "print(emp1.fullName)\n",
    "\n",
    "del(emp1.fullName)\n",
    "\n",
    "print(emp1._firstName)\n",
    "print(emp1.email)\n",
    "print(emp1.fullName)"
   ]
  },
  {
   "cell_type": "code",
   "execution_count": null,
   "metadata": {},
   "outputs": [],
   "source": []
  }
 ]
}